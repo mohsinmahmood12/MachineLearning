{
 "cells": [
  {
   "cell_type": "code",
   "execution_count": 23,
   "id": "92d65d35",
   "metadata": {},
   "outputs": [],
   "source": [
    "import numpy as np\n",
    "import pandas as pd\n",
    "from sklearn.model_selection import train_test_split\n",
    "from sklearn.linear_model import LinearRegression\n",
    "from sklearn.metrics import mean_squared_error\n",
    "from sklearn.metrics import r2_score\n",
    "from sklearn import datasets\n",
    "import matplotlib.pyplot as plt"
   ]
  },
  {
   "cell_type": "code",
   "execution_count": 2,
   "id": "c9891db3",
   "metadata": {},
   "outputs": [],
   "source": [
    "X,y = datasets.make_regression(n_samples=100,n_features=1,noise=20,random_state=1)\n",
    "X_train,X_test,y_train,y_test = train_test_split(X,y,test_size=0.2,random_state=1234)"
   ]
  },
  {
   "cell_type": "code",
   "execution_count": 13,
   "id": "5e39249b",
   "metadata": {},
   "outputs": [],
   "source": [
    "class LinearRegression1():\n",
    "\n",
    "    def __init__(self,lr=0.001,n_iters=1000):  #lr = learning rate , n_iters = number of iterations\n",
    "        self.lr = lr\n",
    "        self.n_iters = n_iters\n",
    "        self.weights = None  \n",
    "        self.bias = None\n",
    "        \n",
    "    \n",
    "    def fit(self,X,y):\n",
    "        n_samples , n_features = X.shape  #Samples are numbers or rows and features are columns\n",
    "        self.weights = np.zeros(n_features)\n",
    "        self.bias = 0\n",
    "\n",
    "        for _ in range(self.n_iters):\n",
    "            #guess = m * x + b\n",
    "            y_predicted = np.dot(X,self.weights) + self.bias\n",
    "            \n",
    "            dw = (1/n_samples) * np.dot(X.T,(y_predicted - y))\n",
    "            db = (1/n_samples) * np.sum(y_predicted - y)\n",
    "\n",
    "            self.weights -= self.lr * dw     \n",
    "            self.bias -= self.lr * db\n",
    "\n",
    "    def predict(self,X): #For new test samples\n",
    "        y_predicted = np.dot(X,self.weights) + self.bias\n",
    "        return y_predicted"
   ]
  },
  {
   "cell_type": "code",
   "execution_count": 14,
   "id": "b89709f0",
   "metadata": {},
   "outputs": [],
   "source": [
    "regressor = LinearRegression1(lr=0.01)"
   ]
  },
  {
   "cell_type": "code",
   "execution_count": 15,
   "id": "2ecda55d",
   "metadata": {},
   "outputs": [],
   "source": [
    "regressor.fit(X_train,y_train)"
   ]
  },
  {
   "cell_type": "code",
   "execution_count": 16,
   "id": "ffbe6bd0",
   "metadata": {},
   "outputs": [],
   "source": [
    "predicted = regressor.predict(X_test)"
   ]
  },
  {
   "cell_type": "code",
   "execution_count": 17,
   "id": "dc6c10f9",
   "metadata": {},
   "outputs": [
    {
     "name": "stdout",
     "output_type": "stream",
     "text": [
      "242.6143166042288\n"
     ]
    }
   ],
   "source": [
    "def MSE(y_true,y_predicted):\n",
    "    return np.mean((y_true - y_predicted)**2)\n",
    "\n",
    "mse_value = MSE(y_test,predicted)\n",
    "print(mse_value)"
   ]
  },
  {
   "cell_type": "code",
   "execution_count": 18,
   "id": "13dba6c4",
   "metadata": {},
   "outputs": [
    {
     "data": {
      "image/png": "[encoded data removed]",
      "text/plain": [
       "<Figure size 576x432 with 1 Axes>"
      ]
     },
     "metadata": {
      "needs_background": "light"
     },
     "output_type": "display_data"
    }
   ],
   "source": [
    "y_pred_line = regressor.predict(X)\n",
    "cmap = plt.get_cmap('viridis')\n",
    "fig = plt.figure(figsize = (8,6))\n",
    "m1 = plt.scatter(X_train,y_train,color = cmap(0.9),s=10)\n",
    "m2 = plt.scatter(X_train,y_train,color = cmap(0.5),s=10)\n",
    "plt.plot(X,y_pred_line,color =\"black\",linewidth=2,label=\"Prediction\")\n",
    "plt.show()"
   ]
  },
  {
   "cell_type": "code",
   "execution_count": 19,
   "id": "f29f42e1",
   "metadata": {},
   "outputs": [
    {
     "data": {
      "text/plain": [
       "0.9581392174258689"
      ]
     },
     "execution_count": 19,
     "metadata": {},
     "output_type": "execute_result"
    }
   ],
   "source": [
    "r2_score(y_test,predicted)"
   ]
  },
  {
   "cell_type": "markdown",
   "id": "cc711a8f",
   "metadata": {},
   "source": [
    "# Scikit-Learn Implementation"
   ]
  },
  {
   "cell_type": "code",
   "execution_count": 27,
   "id": "19a4da1b",
   "metadata": {},
   "outputs": [],
   "source": [
    "LR = LinearRegression()"
   ]
  },
  {
   "cell_type": "code",
   "execution_count": 28,
   "id": "e8ceb0a8",
   "metadata": {},
   "outputs": [
    {
     "data": {
      "text/plain": [
       "LinearRegression()"
      ]
     },
     "execution_count": 28,
     "metadata": {},
     "output_type": "execute_result"
    }
   ],
   "source": [
    "LR.fit(X_train,y_train)"
   ]
  },
  {
   "cell_type": "code",
   "execution_count": 29,
   "id": "1ddec52a",
   "metadata": {},
   "outputs": [],
   "source": [
    "y_predicted = LR.predict(X_test)"
   ]
  },
  {
   "cell_type": "code",
   "execution_count": 30,
   "id": "0b530c47",
   "metadata": {},
   "outputs": [
    {
     "name": "stdout",
     "output_type": "stream",
     "text": [
      "243.01536144061183\n"
     ]
    }
   ],
   "source": [
    "print(mean_squared_error(y_test,y_predicted))"
   ]
  },
  {
   "cell_type": "code",
   "execution_count": 31,
   "id": "1b211a62",
   "metadata": {},
   "outputs": [
    {
     "data": {
      "image/png": "[encoded data removed]",
      "text/plain": [
       "<Figure size 576x432 with 1 Axes>"
      ]
     },
     "metadata": {
      "needs_background": "light"
     },
     "output_type": "display_data"
    }
   ],
   "source": [
    "y_pred_line = LR.predict(X)\n",
    "cmap = plt.get_cmap('viridis')\n",
    "fig = plt.figure(figsize = (8,6))\n",
    "m1 = plt.scatter(X_train,y_train,color = cmap(0.9),s=10)\n",
    "m2 = plt.scatter(X_train,y_train,color = cmap(0.5),s=10)\n",
    "plt.plot(X,y_pred_line,color =\"black\",linewidth=2,label=\"Prediction\")\n",
    "plt.show()"
   ]
  },
  {
   "cell_type": "code",
   "execution_count": 32,
   "id": "605878c1",
   "metadata": {},
   "outputs": [
    {
     "data": {
      "text/plain": [
       "0.9580700209706339"
      ]
     },
     "execution_count": 32,
     "metadata": {},
     "output_type": "execute_result"
    }
   ],
   "source": [
    "r2_score(y_test,y_predicted)"
   ]
  },
  {
   "cell_type": "code",
   "execution_count": null,
   "id": "7cd42e72",
   "metadata": {},
   "outputs": [],
   "source": []
  }
 ],
 "metadata": {
  "kernelspec": {
   "display_name": "Python 3 (ipykernel)",
   "language": "python",
   "name": "python3"
  },
  "language_info": {
   "codemirror_mode": {
    "name": "ipython",
    "version": 3
   },
   "file_extension": ".py",
   "mimetype": "text/x-python",
   "name": "python",
   "nbconvert_exporter": "python",
   "pygments_lexer": "ipython3",
   "version": "3.9.8"
  }
 },
 "nbformat": 4,
 "nbformat_minor": 5
}
